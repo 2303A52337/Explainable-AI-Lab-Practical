{
  "metadata": {
    "kernelspec": {
      "display_name": "Python 3",
      "name": "python3"
    },
    "language_info": {
      "name": "python",
      "version": "3.11.13",
      "mimetype": "text/x-python",
      "codemirror_mode": {
        "name": "ipython",
        "version": 3
      },
      "pygments_lexer": "ipython3",
      "nbconvert_exporter": "python",
      "file_extension": ".py"
    },
    "kaggle": {
      "accelerator": "none",
      "dataSources": [
        {
          "sourceId": 13034905,
          "sourceType": "datasetVersion",
          "datasetId": 8253574
        }
      ],
      "dockerImageVersionId": 31089,
      "isInternetEnabled": true,
      "language": "python",
      "sourceType": "notebook",
      "isGpuEnabled": false
    },
    "colab": {
      "provenance": [],
      "gpuType": "V5E1",
      "include_colab_link": true
    },
    "accelerator": "TPU"
  },
  "nbformat_minor": 0,
  "nbformat": 4,
  "cells": [
    {
      "cell_type": "markdown",
      "metadata": {
        "id": "view-in-github",
        "colab_type": "text"
      },
      "source": [
        "<a href=\"https://colab.research.google.com/github/2303A52337/Explainable-AI-Lab-Practical/blob/main/ex_ai_lab_exam_1_2337.ipynb\" target=\"_parent\"><img src=\"https://colab.research.google.com/assets/colab-badge.svg\" alt=\"Open In Colab\"/></a>"
      ]
    },
    {
      "cell_type": "code",
      "source": [
        "# ==================== SETUP ====================\n",
        "!pip install opencv-python kagglehub tqdm tensorflow -q\n",
        "\n",
        "# ==================== IMPORTS ====================\n",
        "import kagglehub\n",
        "import os\n",
        "import numpy as np\n",
        "import cv2\n",
        "from sklearn.model_selection import train_test_split\n",
        "from sklearn.preprocessing import LabelEncoder, StandardScaler\n",
        "from sklearn.svm import SVC\n",
        "from sklearn.metrics import accuracy_score\n",
        "from tensorflow import keras\n",
        "from tensorflow.keras import layers\n",
        "from tqdm import tqdm\n",
        "\n",
        "# ==================== DOWNLOAD DATASET ====================\n",
        "path = kagglehub.dataset_download(\"piyushraj25/farming\")\n",
        "print(\"✅ Dataset Path:\", path)\n",
        "\n",
        "# ==================== LOAD IMAGES ====================\n",
        "img_size = (128, 128)\n",
        "images, labels = [], []\n",
        "\n",
        "for file in tqdm(os.listdir(path)):\n",
        "    if file.lower().endswith('.tif'):\n",
        "        label = file.split('_')[0]  # e.g. \"NDVI_...\" → NDVI\n",
        "        img_path = os.path.join(path, file)\n",
        "        img = cv2.imread(img_path, cv2.IMREAD_UNCHANGED)\n",
        "        if img is not None:\n",
        "            img = cv2.cvtColor(img, cv2.COLOR_BGR2RGB)\n",
        "            img = cv2.resize(img, img_size)\n",
        "            img = img.astype('float32') / 255.0\n",
        "            img = np.nan_to_num(img, nan=0.0)  # remove NaN pixels\n",
        "            images.append(img)\n",
        "            labels.append(label)\n",
        "\n",
        "images = np.array(images)\n",
        "labels = np.array(labels)\n",
        "\n",
        "print(\"📸 Total Images:\", len(images))\n",
        "print(\"🏷️ Classes:\", np.unique(labels))\n",
        "\n",
        "# ==================== ENCODE + SPLIT ====================\n",
        "le = LabelEncoder()\n",
        "y = le.fit_transform(labels)\n",
        "\n",
        "X_train, X_test, y_train, y_test = train_test_split(images, y, test_size=0.2, random_state=42)\n",
        "\n",
        "# ==================== 1️⃣ MACHINE LEARNING (SVM) ====================\n",
        "X_train_flat = X_train.reshape(len(X_train), -1)\n",
        "X_test_flat = X_test.reshape(len(X_test), -1)\n",
        "\n",
        "# Replace NaNs/Infs before scaling\n",
        "X_train_flat = np.nan_to_num(X_train_flat, nan=0.0, posinf=0.0, neginf=0.0)\n",
        "X_test_flat = np.nan_to_num(X_test_flat, nan=0.0, posinf=0.0, neginf=0.0)\n",
        "\n",
        "scaler = StandardScaler()\n",
        "X_train_scaled = scaler.fit_transform(X_train_flat)\n",
        "X_test_scaled = scaler.transform(X_test_flat)\n",
        "\n",
        "svm = SVC(kernel='linear', random_state=42)\n",
        "svm.fit(X_train_scaled, y_train)\n",
        "y_pred_svm = svm.predict(X_test_scaled)\n",
        "svm_acc = accuracy_score(y_test, y_pred_svm)\n",
        "print(f\"\\n🌾 SVM (Machine Learning) Accuracy: {svm_acc:.3f}\")\n",
        "\n",
        "# ==================== 2️⃣ DEEP LEARNING (CNN) ====================\n",
        "cnn = keras.Sequential([\n",
        "    layers.Conv2D(32, (3,3), activation='relu', input_shape=img_size + (3,)),\n",
        "    layers.MaxPooling2D(2,2),\n",
        "    layers.Conv2D(64, (3,3), activation='relu'),\n",
        "    layers.MaxPooling2D(2,2),\n",
        "    layers.Flatten(),\n",
        "    layers.Dense(64, activation='relu'),\n",
        "    layers.Dense(len(le.classes_), activation='softmax')\n",
        "])\n",
        "\n",
        "cnn.compile(optimizer='adam', loss='sparse_categorical_crossentropy', metrics=['accuracy'])\n",
        "cnn.fit(X_train, y_train, epochs=5, validation_data=(X_test, y_test), verbose=1)\n",
        "\n",
        "loss, cnn_acc = cnn.evaluate(X_test, y_test, verbose=0)\n",
        "print(f\"🤖 CNN (Deep Learning) Accuracy: {cnn_acc:.3f}\")\n",
        "\n",
        "# ==================== RESULT SUMMARY ====================\n",
        "print(\"\\n================= RESULTS =================\")\n",
        "print(f\"SVM Accuracy : {svm_acc*100:.2f}%\")\n",
        "print(f\"CNN Accuracy : {cnn_acc*100:.2f}%\")\n",
        "print(\"===========================================\")"
      ],
      "metadata": {
        "colab": {
          "base_uri": "https://localhost:8080/"
        },
        "id": "Wi_w2kM3GMwD",
        "outputId": "d78d8d04-05b7-4447-ce33-3f7a3da26783"
      },
      "execution_count": null,
      "outputs": [
        {
          "output_type": "stream",
          "name": "stdout",
          "text": [
            "\u001b[2K   \u001b[90m━━━━━━━━━━━━━━━━━━━━━━━━━━━━━━━━━━━━━━━\u001b[0m \u001b[32m620.7/620.7 MB\u001b[0m \u001b[31m736.4 kB/s\u001b[0m eta \u001b[36m0:00:00\u001b[0m\n",
            "\u001b[2K   \u001b[90m━━━━━━━━━━━━━━━━━━━━━━━━━━━━━━━━━━━━━━━━\u001b[0m \u001b[32m57.5/57.5 kB\u001b[0m \u001b[31m5.5 MB/s\u001b[0m eta \u001b[36m0:00:00\u001b[0m\n",
            "\u001b[2K   \u001b[90m━━━━━━━━━━━━━━━━━━━━━━━━━━━━━━━━━━━━━━━━\u001b[0m \u001b[32m24.5/24.5 MB\u001b[0m \u001b[31m112.2 MB/s\u001b[0m eta \u001b[36m0:00:00\u001b[0m\n",
            "\u001b[2K   \u001b[90m━━━━━━━━━━━━━━━━━━━━━━━━━━━━━━━━━━━━━━━━\u001b[0m \u001b[32m5.5/5.5 MB\u001b[0m \u001b[31m139.7 MB/s\u001b[0m eta \u001b[36m0:00:00\u001b[0m\n",
            "\u001b[2K   \u001b[90m━━━━━━━━━━━━━━━━━━━━━━━━━━━━━━━━━━━━━━━━\u001b[0m \u001b[32m6.6/6.6 MB\u001b[0m \u001b[31m112.6 MB/s\u001b[0m eta \u001b[36m0:00:00\u001b[0m\n",
            "\u001b[2K   \u001b[90m━━━━━━━━━━━━━━━━━━━━━━━━━━━━━━━━━━━━━━━━\u001b[0m \u001b[32m224.5/224.5 kB\u001b[0m \u001b[31m19.5 MB/s\u001b[0m eta \u001b[36m0:00:00\u001b[0m\n",
            "\u001b[2K   \u001b[90m━━━━━━━━━━━━━━━━━━━━━━━━━━━━━━━━━━━━━━━━\u001b[0m \u001b[32m72.5/72.5 kB\u001b[0m \u001b[31m6.6 MB/s\u001b[0m eta \u001b[36m0:00:00\u001b[0m\n",
            "\u001b[?25h"
          ]
        },
        {
          "output_type": "stream",
          "name": "stderr",
          "text": [
            "/usr/local/lib/python3.12/dist-packages/jax/_src/cloud_tpu_init.py:86: UserWarning: Transparent hugepages are not enabled. TPU runtime startup and shutdown time should be significantly improved on TPU v5e and newer. If not already set, you may need to enable transparent hugepages in your VM image (sudo sh -c \"echo always > /sys/kernel/mm/transparent_hugepage/enabled\")\n",
            "  warnings.warn(\n"
          ]
        },
        {
          "output_type": "stream",
          "name": "stdout",
          "text": [
            "Using Colab cache for faster access to the 'farming' dataset.\n",
            "✅ Dataset Path: /kaggle/input/farming\n"
          ]
        },
        {
          "output_type": "stream",
          "name": "stderr",
          "text": [
            "100%|██████████| 356/356 [00:04<00:00, 81.48it/s] \n"
          ]
        },
        {
          "output_type": "stream",
          "name": "stdout",
          "text": [
            "📸 Total Images: 356\n",
            "🏷️ Classes: ['FalseColor' 'NDSI' 'NDVI' 'NDWI' 'SWIR' 'TCI']\n",
            "\n",
            "🌾 SVM (Machine Learning) Accuracy: 0.569\n"
          ]
        },
        {
          "output_type": "stream",
          "name": "stderr",
          "text": [
            "/usr/local/lib/python3.12/dist-packages/keras/src/layers/convolutional/base_conv.py:113: UserWarning: Do not pass an `input_shape`/`input_dim` argument to a layer. When using Sequential models, prefer using an `Input(shape)` object as the first layer in the model instead.\n",
            "  super().__init__(activity_regularizer=activity_regularizer, **kwargs)\n"
          ]
        },
        {
          "output_type": "stream",
          "name": "stdout",
          "text": [
            "Epoch 1/5\n",
            "\u001b[1m9/9\u001b[0m \u001b[32m━━━━━━━━━━━━━━━━━━━━\u001b[0m\u001b[37m\u001b[0m \u001b[1m3s\u001b[0m 299ms/step - accuracy: 0.3485 - loss: 8.4673 - val_accuracy: 0.2500 - val_loss: 2.5153\n",
            "Epoch 2/5\n",
            "\u001b[1m9/9\u001b[0m \u001b[32m━━━━━━━━━━━━━━━━━━━━\u001b[0m\u001b[37m\u001b[0m \u001b[1m3s\u001b[0m 278ms/step - accuracy: 0.3302 - loss: 2.0527 - val_accuracy: 0.3750 - val_loss: 1.3435\n",
            "Epoch 3/5\n",
            "\u001b[1m9/9\u001b[0m \u001b[32m━━━━━━━━━━━━━━━━━━━━\u001b[0m\u001b[37m\u001b[0m \u001b[1m2s\u001b[0m 277ms/step - accuracy: 0.5163 - loss: 1.1627 - val_accuracy: 0.4306 - val_loss: 0.9868\n",
            "Epoch 4/5\n",
            "\u001b[1m9/9\u001b[0m \u001b[32m━━━━━━━━━━━━━━━━━━━━\u001b[0m\u001b[37m\u001b[0m \u001b[1m3s\u001b[0m 277ms/step - accuracy: 0.5492 - loss: 0.8409 - val_accuracy: 0.4167 - val_loss: 0.9891\n",
            "Epoch 5/5\n",
            "\u001b[1m9/9\u001b[0m \u001b[32m━━━━━━━━━━━━━━━━━━━━\u001b[0m\u001b[37m\u001b[0m \u001b[1m2s\u001b[0m 275ms/step - accuracy: 0.4586 - loss: 0.9058 - val_accuracy: 0.4444 - val_loss: 1.0059\n",
            "🤖 CNN (Deep Learning) Accuracy: 0.444\n",
            "\n",
            "================= RESULTS =================\n",
            "SVM Accuracy : 56.94%\n",
            "CNN Accuracy : 44.44%\n",
            "===========================================\n"
          ]
        }
      ]
    }
  ]
}